{
  "nbformat": 4,
  "nbformat_minor": 0,
  "metadata": {
    "colab": {
      "provenance": [],
      "authorship_tag": "ABX9TyPQ3iBvD6UuPx41Mm+SKQaf",
      "include_colab_link": true
    },
    "kernelspec": {
      "name": "python3",
      "display_name": "Python 3"
    },
    "language_info": {
      "name": "python"
    }
  },
  "cells": [
    {
      "cell_type": "markdown",
      "metadata": {
        "id": "view-in-github",
        "colab_type": "text"
      },
      "source": [
        "<a href=\"https://colab.research.google.com/github/maulss/PCVK/blob/main/minggu8.ipynb\" target=\"_parent\"><img src=\"https://colab.research.google.com/assets/colab-badge.svg\" alt=\"Open In Colab\"/></a>"
      ]
    },
    {
      "cell_type": "code",
      "execution_count": 4,
      "metadata": {
        "colab": {
          "base_uri": "https://localhost:8080/"
        },
        "id": "eBK1equCidlP",
        "outputId": "87344700-ce17-484f-a47e-336c8ad3426b"
      },
      "outputs": [
        {
          "output_type": "stream",
          "name": "stdout",
          "text": [
            "Drive already mounted at /content/drive; to attempt to forcibly remount, call drive.mount(\"/content/drive\", force_remount=True).\n"
          ]
        }
      ],
      "source": [
        "from google.colab import drive\n",
        "drive.mount('/content/drive')"
      ]
    },
    {
      "cell_type": "code",
      "source": [
        "import cv2\n",
        "import numpy as np\n",
        "from matplotlib import pyplot as plt"
      ],
      "metadata": {
        "id": "KgX5Bj6djxAf"
      },
      "execution_count": 5,
      "outputs": []
    },
    {
      "cell_type": "code",
      "source": [
        "#Dilasi tanpa library\n",
        "def dilasi_citra(F,w):\n",
        "#size image\n",
        "p,q= F.shape\n",
        "imgD= np.zeros((p,q), dtype=np.uint8)\n",
        "#Generate structure element dilasi (SED)\n",
        "SED= np.ones((w,w), dtype=np.uint8)\n",
        "constant1= (w-1)//2\n",
        "#Proses Dilasi\n",
        "for i in range(constant1, p-constant1):\n",
        "for j in range(constant1,q-constant1):\n",
        "\n",
        "temp= F[i-constant1:i+constant1+1, j-\n",
        "constant1:j+constant1+1]\n",
        "\n",
        "product= temp*SED"
      ],
      "metadata": {
        "colab": {
          "base_uri": "https://localhost:8080/",
          "height": 141
        },
        "id": "pg6-kLvwlZfB",
        "outputId": "4416bd7c-b4d4-41bb-f88f-0707aff7ca41"
      },
      "execution_count": 6,
      "outputs": [
        {
          "output_type": "error",
          "ename": "IndentationError",
          "evalue": "ignored",
          "traceback": [
            "\u001b[0;36m  File \u001b[0;32m\"<ipython-input-6-224303e71bf4>\"\u001b[0;36m, line \u001b[0;32m4\u001b[0m\n\u001b[0;31m    p,q= F.shape\u001b[0m\n\u001b[0m    ^\u001b[0m\n\u001b[0;31mIndentationError\u001b[0m\u001b[0;31m:\u001b[0m expected an indented block after function definition on line 2\n"
          ]
        }
      ]
    }
  ]
}